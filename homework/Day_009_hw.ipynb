{
 "cells": [
  {
   "cell_type": "code",
   "execution_count": 1,
   "metadata": {},
   "outputs": [
    {
     "data": {
      "text/plain": [
       "100000-element Array{Int64,1}:\n",
       " 233\n",
       " 435\n",
       " 212\n",
       " 299\n",
       " 221\n",
       " 329\n",
       " 237\n",
       " 422\n",
       " 412\n",
       " 493\n",
       " 487\n",
       " 409\n",
       " 475\n",
       "   ⋮\n",
       " 310\n",
       " 226\n",
       " 267\n",
       " 210\n",
       " 372\n",
       " 248\n",
       " 270\n",
       " 222\n",
       " 342\n",
       " 291\n",
       " 343\n",
       " 450"
      ]
     },
     "execution_count": 1,
     "metadata": {},
     "output_type": "execute_result"
    }
   ],
   "source": [
    "k = 100000\n",
    "x = rand(200:500, k)"
   ]
  },
  {
   "cell_type": "code",
   "execution_count": 2,
   "metadata": {},
   "outputs": [
    {
     "name": "stdout",
     "output_type": "stream",
     "text": [
      "  0.018156 seconds (74.39 k allocations: 4.672 MiB)\n",
      "  0.041851 seconds (138.01 k allocations: 7.785 MiB, 13.23% gc time)\n",
      "  0.026488 seconds (98.70 k allocations: 5.900 MiB)\n",
      "  0.005252 seconds (25.04 k allocations: 2.131 MiB)\n"
     ]
    },
    {
     "data": {
      "text/plain": [
       "100000-element Array{Int64,1}:\n",
       " 200\n",
       " 200\n",
       " 200\n",
       " 200\n",
       " 200\n",
       " 200\n",
       " 200\n",
       " 200\n",
       " 200\n",
       " 200\n",
       " 200\n",
       " 200\n",
       " 200\n",
       "   ⋮\n",
       " 500\n",
       " 500\n",
       " 500\n",
       " 500\n",
       " 500\n",
       " 500\n",
       " 500\n",
       " 500\n",
       " 500\n",
       " 500\n",
       " 500\n",
       " 500"
      ]
     },
     "execution_count": 2,
     "metadata": {},
     "output_type": "execute_result"
    }
   ],
   "source": [
    "@time sort(x, alg=InsertionSort)  #Insertion Sort\n",
    "@time sort(x, alg=MergeSort)  #MergeSort\n",
    "@time sort(x; alg=PartialQuickSort(10000))  #Partial Quick Sort\n",
    "@time sort(x; alg=QuickSort)  #QuickSort"
   ]
  },
  {
   "cell_type": "markdown",
   "metadata": {},
   "source": [
    "請問哪一種排序方法的效能最好？"
   ]
  },
  {
   "cell_type": "markdown",
   "metadata": {},
   "source": [
    "Ans: QuickSort"
   ]
  },
  {
   "cell_type": "code",
   "execution_count": null,
   "metadata": {},
   "outputs": [],
   "source": []
  }
 ],
 "metadata": {
  "kernelspec": {
   "display_name": "Julia 1.4.0",
   "language": "julia",
   "name": "julia-1.4"
  },
  "language_info": {
   "file_extension": ".jl",
   "mimetype": "application/julia",
   "name": "julia",
   "version": "1.4.0"
  }
 },
 "nbformat": 4,
 "nbformat_minor": 4
}
