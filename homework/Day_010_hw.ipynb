{
 "cells": [
  {
   "cell_type": "code",
   "execution_count": 1,
   "metadata": {},
   "outputs": [
    {
     "data": {
      "text/plain": [
       "100000-element Array{Int64,1}:\n",
       " 233\n",
       " 435\n",
       " 212\n",
       " 299\n",
       " 221\n",
       " 329\n",
       " 237\n",
       " 422\n",
       " 412\n",
       " 493\n",
       " 487\n",
       " 409\n",
       " 475\n",
       "   ⋮\n",
       " 310\n",
       " 226\n",
       " 267\n",
       " 210\n",
       " 372\n",
       " 248\n",
       " 270\n",
       " 222\n",
       " 342\n",
       " 291\n",
       " 343\n",
       " 450"
      ]
     },
     "execution_count": 1,
     "metadata": {},
     "output_type": "execute_result"
    }
   ],
   "source": [
    "x = rand(200:500, 100000)"
   ]
  },
  {
   "cell_type": "code",
   "execution_count": 4,
   "metadata": {},
   "outputs": [
    {
     "name": "stdout",
     "output_type": "stream",
     "text": [
      "  0.000441 seconds (3 allocations: 783.828 KiB)\n",
      "  0.000369 seconds (3 allocations: 783.828 KiB)\n",
      "  0.000364 seconds (5 allocations: 783.859 KiB)\n",
      "  0.000305 seconds (3 allocations: 783.828 KiB)\n"
     ]
    },
    {
     "data": {
      "text/plain": [
       "100000-element Array{Int64,1}:\n",
       " 200\n",
       " 200\n",
       " 200\n",
       " 200\n",
       " 200\n",
       " 200\n",
       " 200\n",
       " 200\n",
       " 200\n",
       " 200\n",
       " 200\n",
       " 200\n",
       " 200\n",
       "   ⋮\n",
       " 500\n",
       " 500\n",
       " 500\n",
       " 500\n",
       " 500\n",
       " 500\n",
       " 500\n",
       " 500\n",
       " 500\n",
       " 500\n",
       " 500\n",
       " 500"
      ]
     },
     "execution_count": 4,
     "metadata": {},
     "output_type": "execute_result"
    }
   ],
   "source": [
    "@time sort(x, alg=InsertionSort)  #Insertion Sort\n",
    "@time sort(x, alg=MergeSort)  #MergeSort\n",
    "@time sort(x; alg=PartialQuickSort(50))  #Partial Quick Sort\n",
    "@time sort(x; alg=QuickSort)  #QuickSort"
   ]
  },
  {
   "cell_type": "markdown",
   "metadata": {},
   "source": [
    "請問哪一種排序方法的效能最好？"
   ]
  },
  {
   "cell_type": "markdown",
   "metadata": {},
   "source": [
    "Ans: QuickSort"
   ]
  },
  {
   "cell_type": "code",
   "execution_count": null,
   "metadata": {},
   "outputs": [],
   "source": []
  }
 ],
 "metadata": {
  "kernelspec": {
   "display_name": "Julia 1.4.0",
   "language": "julia",
   "name": "julia-1.4"
  },
  "language_info": {
   "file_extension": ".jl",
   "mimetype": "application/julia",
   "name": "julia",
   "version": "1.4.0"
  }
 },
 "nbformat": 4,
 "nbformat_minor": 4
}
