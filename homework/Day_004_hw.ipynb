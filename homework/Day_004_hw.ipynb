{
 "cells": [
  {
   "cell_type": "markdown",
   "metadata": {},
   "source": [
    "列出 Int128, Int32, Int16, Int8, UInt128, UInt64, UInt32, UInt16, UInt8 整數型別的最小值及最大值"
   ]
  },
  {
   "cell_type": "code",
   "execution_count": 10,
   "metadata": {},
   "outputs": [
    {
     "data": {
      "text/plain": [
       "(Int128, Int32, Int16, Int8, UInt128, UInt64, UInt32, UInt16, UInt8)"
      ]
     },
     "execution_count": 10,
     "metadata": {},
     "output_type": "execute_result"
    }
   ],
   "source": [
    "x = (Int128, Int32, Int16, Int8, UInt128, UInt64, UInt32, UInt16, UInt8)"
   ]
  },
  {
   "cell_type": "code",
   "execution_count": 11,
   "metadata": {},
   "outputs": [
    {
     "name": "stdout",
     "output_type": "stream",
     "text": [
      "Int128 : 最小值 -170141183460469231731687303715884105728, 最大值 170141183460469231731687303715884105727\n",
      "Int32  : 最小值 -2147483648, 最大值 2147483647\n",
      "Int16  : 最小值 -32768, 最大值 32767\n",
      "Int8   : 最小值 -128, 最大值 127\n",
      "UInt128: 最小值 0, 最大值 340282366920938463463374607431768211455\n",
      "UInt64 : 最小值 0, 最大值 18446744073709551615\n",
      "UInt32 : 最小值 0, 最大值 4294967295\n",
      "UInt16 : 最小值 0, 最大值 65535\n",
      "UInt8  : 最小值 0, 最大值 255\n"
     ]
    }
   ],
   "source": [
    "for i = 1:length(x)\n",
    "    println(\"$(rpad(x[i],7)): 最小值 $(typemin(x[i])), 最大值 $(typemax(x[i]))\")\n",
    "end"
   ]
  },
  {
   "cell_type": "markdown",
   "metadata": {},
   "source": [
    "列出 Float32, Float16 浮點數型別的最小和最大值"
   ]
  },
  {
   "cell_type": "code",
   "execution_count": 12,
   "metadata": {},
   "outputs": [
    {
     "data": {
      "text/plain": [
       "(Float32, Float16)"
      ]
     },
     "execution_count": 12,
     "metadata": {},
     "output_type": "execute_result"
    }
   ],
   "source": [
    "y = (Float32, Float16)"
   ]
  },
  {
   "cell_type": "code",
   "execution_count": 14,
   "metadata": {},
   "outputs": [
    {
     "name": "stdout",
     "output_type": "stream",
     "text": [
      "Float32: 最小值 -Inf, 最大值 Inf\n",
      "Float16: 最小值 -Inf, 最大值 Inf\n"
     ]
    }
   ],
   "source": [
    "for i = 1:length(y)\n",
    "    println(\"$(rpad(y[i],7)): 最小值 $(typemin(y[i])), 最大值 $(typemax(y[i]))\")\n",
    "end"
   ]
  },
  {
   "cell_type": "code",
   "execution_count": null,
   "metadata": {},
   "outputs": [],
   "source": []
  }
 ],
 "metadata": {
  "kernelspec": {
   "display_name": "Julia 1.4.0",
   "language": "julia",
   "name": "julia-1.4"
  },
  "language_info": {
   "file_extension": ".jl",
   "mimetype": "application/julia",
   "name": "julia",
   "version": "1.4.0"
  }
 },
 "nbformat": 4,
 "nbformat_minor": 4
}
