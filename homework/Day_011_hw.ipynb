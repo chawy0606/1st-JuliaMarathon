{
 "cells": [
  {
   "cell_type": "markdown",
   "metadata": {},
   "source": [
    "請新增另一個語系的月份及星期，並嘗試印出不同語系的月份及星期簡稱/縮寫。"
   ]
  },
  {
   "cell_type": "code",
   "execution_count": 2,
   "metadata": {},
   "outputs": [],
   "source": [
    "using Dates"
   ]
  },
  {
   "cell_type": "code",
   "execution_count": 3,
   "metadata": {},
   "outputs": [],
   "source": [
    "france_months = [\"janvier\", \"février\", \"mars\", \"avril\", \"mai\", \"juin\",\n",
    "                 \"juillet\", \"août\", \"septembre\", \"octobre\", \"novembre\", \"décembre\"]\n",
    "france_months_abbrev = [\"janv\", \"févr\", \"mars\", \"avril\", \"mai\", \"juin\",\n",
    "                        \"juillet\", \"août\", \"sept\", \"oct\", \"nov\", \"déc\"]\n",
    "\n",
    "france_weeks = [\"lundi\", \"mardi\", \"mercredi\", \"jeudi\", \"vendredi\", \"samedi\", \"dimanche\"]\n",
    "\n",
    "france_weeks_abbrev = [\"lun.\", \"mar.\", \"mer.\", \"jeu.\", \"ven.\", \"sam.\", \"dim.\"]\n",
    "\n",
    "Dates.LOCALES[\"france\"] = Dates.DateLocale(france_months, france_months_abbrev, france_weeks, france_weeks_abbrev);"
   ]
  },
  {
   "cell_type": "code",
   "execution_count": 8,
   "metadata": {},
   "outputs": [
    {
     "data": {
      "text/plain": [
       "\"vendredi\""
      ]
     },
     "execution_count": 8,
     "metadata": {},
     "output_type": "execute_result"
    }
   ],
   "source": [
    "dayname(now(); locale=\"france\") #2020/5/1"
   ]
  },
  {
   "cell_type": "code",
   "execution_count": 6,
   "metadata": {},
   "outputs": [
    {
     "data": {
      "text/plain": [
       "\"ven.\""
      ]
     },
     "execution_count": 6,
     "metadata": {},
     "output_type": "execute_result"
    }
   ],
   "source": [
    "dayabbr(now(); locale=\"france\")"
   ]
  },
  {
   "cell_type": "code",
   "execution_count": 9,
   "metadata": {},
   "outputs": [
    {
     "data": {
      "text/plain": [
       "\"mai\""
      ]
     },
     "execution_count": 9,
     "metadata": {},
     "output_type": "execute_result"
    }
   ],
   "source": [
    "monthname(now(); locale=\"france\") "
   ]
  },
  {
   "cell_type": "code",
   "execution_count": 10,
   "metadata": {},
   "outputs": [
    {
     "data": {
      "text/plain": [
       "\"mai\""
      ]
     },
     "execution_count": 10,
     "metadata": {},
     "output_type": "execute_result"
    }
   ],
   "source": [
    "monthabbr(now(); locale=\"france\") "
   ]
  },
  {
   "cell_type": "code",
   "execution_count": null,
   "metadata": {},
   "outputs": [],
   "source": []
  }
 ],
 "metadata": {
  "kernelspec": {
   "display_name": "Julia 1.4.0",
   "language": "julia",
   "name": "julia-1.4"
  },
  "language_info": {
   "file_extension": ".jl",
   "mimetype": "application/julia",
   "name": "julia",
   "version": "1.4.0"
  }
 },
 "nbformat": 4,
 "nbformat_minor": 4
}
